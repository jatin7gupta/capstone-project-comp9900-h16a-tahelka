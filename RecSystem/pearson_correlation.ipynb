{
 "cells": [
  {
   "cell_type": "markdown",
   "metadata": {},
   "source": [
    "# Create pearson correlation matrix for each movie pair based on the users that rated the primary movie"
   ]
  },
  {
   "cell_type": "code",
   "execution_count": null,
   "metadata": {},
   "outputs": [],
   "source": [
    "#for each movie have a table of movieid, similar_movieid, similarity_score, simmovie_av_rating\n",
    "# where there are multiple similar_movieids for each movie.\n",
    "# Can retrive the similar_movieids matching any given movieid by the user to recommend the similar movies with \n",
    "# correlation score > 0.8"
   ]
  },
  {
   "cell_type": "code",
   "execution_count": 5,
   "metadata": {},
   "outputs": [],
   "source": [
    "#set up data and dataframe\n",
    "import pandas as pd\n",
    "ratings = pd.read_csv('MovieReview.csv', header = 0)\n",
    "movies = pd.read_csv('Movie.csv', header = 0)\n",
    "ratings.fillna(0, inplace = True)\n",
    "moviemat = ratings.pivot_table(index='userID',columns='movieID',values='rating') \n",
    "movie_dict = dict(zip(movies.movieID, movies.total_ratings/movies.rating_count))\n",
    "sim = pd.DataFrame(columns = ['movieID', 'sim_movieID', 'sim_score', 'sim_av_rating'])"
   ]
  },
  {
   "cell_type": "code",
   "execution_count": null,
   "metadata": {},
   "outputs": [],
   "source": [
    "i = 0 \n",
    "for movieid in movie_dict:\n",
    "    start = time.time()\n",
    "    all_user_ratings = moviemat[movieid]\n",
    "    corr = moviemat.corrwith(all_user_ratings, method = 'pearson')\n",
    "    corr = corr.dropna()\n",
    "    corr = corr.drop(corr[corr.index == movieid].index)         #drop the input movie itself\n",
    "    corr = corr[corr > 0.8]                                     #retain only the movies > 0.8 correlation \n",
    "    for sim_movie, row in corr.iteritems():\n",
    "        sim = sim.append({'movieID':movieid, 'sim_movieID': sim_movie, 'sim_score':corr[sim_movie],'sim_av_rating':round(movie_dict[sim_movie],2)},ignore_index=True)\n",
    "    i += 1\n",
    "    print(i, '---', time.time()-start)\n",
    "sim.to_csv('similarity.csv', index=False)     "
   ]
  },
  {
   "cell_type": "markdown",
   "metadata": {},
   "source": [
    "# not pursued further due to each of the 9.4k computattions taking 60-80 seconds. "
   ]
  },
  {
   "cell_type": "code",
   "execution_count": null,
   "metadata": {},
   "outputs": [],
   "source": []
  }
 ],
 "metadata": {
  "kernelspec": {
   "display_name": "Python 3",
   "language": "python",
   "name": "python3"
  },
  "language_info": {
   "codemirror_mode": {
    "name": "ipython",
    "version": 3
   },
   "file_extension": ".py",
   "mimetype": "text/x-python",
   "name": "python",
   "nbconvert_exporter": "python",
   "pygments_lexer": "ipython3",
   "version": "3.8.3"
  }
 },
 "nbformat": 4,
 "nbformat_minor": 4
}
